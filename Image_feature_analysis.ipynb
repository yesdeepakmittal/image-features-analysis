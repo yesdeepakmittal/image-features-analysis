{
  "nbformat": 4,
  "nbformat_minor": 0,
  "metadata": {
    "colab": {
      "provenance": [],
      "gpuType": "T4",
      "authorship_tag": "ABX9TyNerwixjLRiRtg77sHcMHHs",
      "include_colab_link": true
    },
    "kernelspec": {
      "name": "python3",
      "display_name": "Python 3"
    },
    "language_info": {
      "name": "python"
    },
    "widgets": {
      "application/vnd.jupyter.widget-state+json": {
        "6bf11ddc500d49a7967515da30625ced": {
          "model_module": "@jupyter-widgets/controls",
          "model_name": "VBoxModel",
          "model_module_version": "1.5.0",
          "state": {
            "_dom_classes": [],
            "_model_module": "@jupyter-widgets/controls",
            "_model_module_version": "1.5.0",
            "_model_name": "VBoxModel",
            "_view_count": null,
            "_view_module": "@jupyter-widgets/controls",
            "_view_module_version": "1.5.0",
            "_view_name": "VBoxView",
            "box_style": "",
            "children": [
              "IPY_MODEL_e5e2df8c24544e3f9bf1c72e91980349",
              "IPY_MODEL_c0b3285081d745e19519d0ad7c71487c",
              "IPY_MODEL_94ec15b3ae3542fdb77c3d20868b48c2",
              "IPY_MODEL_99ec3f695be3436097666b23987c681c",
              "IPY_MODEL_b70e2d6f13d249c19f51dbb421cedeed"
            ],
            "layout": "IPY_MODEL_f84b53d05ee4465e99a7a5adffad109f"
          }
        },
        "e5e2df8c24544e3f9bf1c72e91980349": {
          "model_module": "@jupyter-widgets/controls",
          "model_name": "HTMLModel",
          "model_module_version": "1.5.0",
          "state": {
            "_dom_classes": [],
            "_model_module": "@jupyter-widgets/controls",
            "_model_module_version": "1.5.0",
            "_model_name": "HTMLModel",
            "_view_count": null,
            "_view_module": "@jupyter-widgets/controls",
            "_view_module_version": "1.5.0",
            "_view_name": "HTMLView",
            "description": "",
            "description_tooltip": null,
            "layout": "IPY_MODEL_ae3b8dc848fd4857aadc2dbe6e890ee9",
            "placeholder": "​",
            "style": "IPY_MODEL_83c40db5578a40c485205f52e651f515",
            "value": "<center> <img\nsrc=https://huggingface.co/front/assets/huggingface_logo-noborder.svg\nalt='Hugging Face'> <br> Copy a token from <a\nhref=\"https://huggingface.co/settings/tokens\" target=\"_blank\">your Hugging Face\ntokens page</a> and paste it below. <br> Immediately click login after copying\nyour token or it might be stored in plain text in this notebook file. </center>"
          }
        },
        "c0b3285081d745e19519d0ad7c71487c": {
          "model_module": "@jupyter-widgets/controls",
          "model_name": "PasswordModel",
          "model_module_version": "1.5.0",
          "state": {
            "_dom_classes": [],
            "_model_module": "@jupyter-widgets/controls",
            "_model_module_version": "1.5.0",
            "_model_name": "PasswordModel",
            "_view_count": null,
            "_view_module": "@jupyter-widgets/controls",
            "_view_module_version": "1.5.0",
            "_view_name": "PasswordView",
            "continuous_update": true,
            "description": "Token:",
            "description_tooltip": null,
            "disabled": false,
            "layout": "IPY_MODEL_4807fe4b56c74f5ca61236125bb0658a",
            "placeholder": "​",
            "style": "IPY_MODEL_275666b64e5e42cc8428b05641135546",
            "value": ""
          }
        },
        "94ec15b3ae3542fdb77c3d20868b48c2": {
          "model_module": "@jupyter-widgets/controls",
          "model_name": "CheckboxModel",
          "model_module_version": "1.5.0",
          "state": {
            "_dom_classes": [],
            "_model_module": "@jupyter-widgets/controls",
            "_model_module_version": "1.5.0",
            "_model_name": "CheckboxModel",
            "_view_count": null,
            "_view_module": "@jupyter-widgets/controls",
            "_view_module_version": "1.5.0",
            "_view_name": "CheckboxView",
            "description": "Add token as git credential?",
            "description_tooltip": null,
            "disabled": false,
            "indent": true,
            "layout": "IPY_MODEL_1d7d6f97dd0644ad9a606d4fd280a51b",
            "style": "IPY_MODEL_42e91ea9c626460e8fd9a0d09cebb577",
            "value": true
          }
        },
        "99ec3f695be3436097666b23987c681c": {
          "model_module": "@jupyter-widgets/controls",
          "model_name": "ButtonModel",
          "model_module_version": "1.5.0",
          "state": {
            "_dom_classes": [],
            "_model_module": "@jupyter-widgets/controls",
            "_model_module_version": "1.5.0",
            "_model_name": "ButtonModel",
            "_view_count": null,
            "_view_module": "@jupyter-widgets/controls",
            "_view_module_version": "1.5.0",
            "_view_name": "ButtonView",
            "button_style": "",
            "description": "Login",
            "disabled": false,
            "icon": "",
            "layout": "IPY_MODEL_6865a98604e74f519f66393630957ccf",
            "style": "IPY_MODEL_42bb39e2de6f4376a73e5ef9f92fe0a2",
            "tooltip": ""
          }
        },
        "b70e2d6f13d249c19f51dbb421cedeed": {
          "model_module": "@jupyter-widgets/controls",
          "model_name": "HTMLModel",
          "model_module_version": "1.5.0",
          "state": {
            "_dom_classes": [],
            "_model_module": "@jupyter-widgets/controls",
            "_model_module_version": "1.5.0",
            "_model_name": "HTMLModel",
            "_view_count": null,
            "_view_module": "@jupyter-widgets/controls",
            "_view_module_version": "1.5.0",
            "_view_name": "HTMLView",
            "description": "",
            "description_tooltip": null,
            "layout": "IPY_MODEL_868a162aa1ba484cb280b0db5d765938",
            "placeholder": "​",
            "style": "IPY_MODEL_d7fc07964dee4637914bfbbfc9cb7483",
            "value": "\n<b>Pro Tip:</b> If you don't already have one, you can create a dedicated\n'notebooks' token with 'write' access, that you can then easily reuse for all\nnotebooks. </center>"
          }
        },
        "f84b53d05ee4465e99a7a5adffad109f": {
          "model_module": "@jupyter-widgets/base",
          "model_name": "LayoutModel",
          "model_module_version": "1.2.0",
          "state": {
            "_model_module": "@jupyter-widgets/base",
            "_model_module_version": "1.2.0",
            "_model_name": "LayoutModel",
            "_view_count": null,
            "_view_module": "@jupyter-widgets/base",
            "_view_module_version": "1.2.0",
            "_view_name": "LayoutView",
            "align_content": null,
            "align_items": "center",
            "align_self": null,
            "border": null,
            "bottom": null,
            "display": "flex",
            "flex": null,
            "flex_flow": "column",
            "grid_area": null,
            "grid_auto_columns": null,
            "grid_auto_flow": null,
            "grid_auto_rows": null,
            "grid_column": null,
            "grid_gap": null,
            "grid_row": null,
            "grid_template_areas": null,
            "grid_template_columns": null,
            "grid_template_rows": null,
            "height": null,
            "justify_content": null,
            "justify_items": null,
            "left": null,
            "margin": null,
            "max_height": null,
            "max_width": null,
            "min_height": null,
            "min_width": null,
            "object_fit": null,
            "object_position": null,
            "order": null,
            "overflow": null,
            "overflow_x": null,
            "overflow_y": null,
            "padding": null,
            "right": null,
            "top": null,
            "visibility": null,
            "width": "50%"
          }
        },
        "ae3b8dc848fd4857aadc2dbe6e890ee9": {
          "model_module": "@jupyter-widgets/base",
          "model_name": "LayoutModel",
          "model_module_version": "1.2.0",
          "state": {
            "_model_module": "@jupyter-widgets/base",
            "_model_module_version": "1.2.0",
            "_model_name": "LayoutModel",
            "_view_count": null,
            "_view_module": "@jupyter-widgets/base",
            "_view_module_version": "1.2.0",
            "_view_name": "LayoutView",
            "align_content": null,
            "align_items": null,
            "align_self": null,
            "border": null,
            "bottom": null,
            "display": null,
            "flex": null,
            "flex_flow": null,
            "grid_area": null,
            "grid_auto_columns": null,
            "grid_auto_flow": null,
            "grid_auto_rows": null,
            "grid_column": null,
            "grid_gap": null,
            "grid_row": null,
            "grid_template_areas": null,
            "grid_template_columns": null,
            "grid_template_rows": null,
            "height": null,
            "justify_content": null,
            "justify_items": null,
            "left": null,
            "margin": null,
            "max_height": null,
            "max_width": null,
            "min_height": null,
            "min_width": null,
            "object_fit": null,
            "object_position": null,
            "order": null,
            "overflow": null,
            "overflow_x": null,
            "overflow_y": null,
            "padding": null,
            "right": null,
            "top": null,
            "visibility": null,
            "width": null
          }
        },
        "83c40db5578a40c485205f52e651f515": {
          "model_module": "@jupyter-widgets/controls",
          "model_name": "DescriptionStyleModel",
          "model_module_version": "1.5.0",
          "state": {
            "_model_module": "@jupyter-widgets/controls",
            "_model_module_version": "1.5.0",
            "_model_name": "DescriptionStyleModel",
            "_view_count": null,
            "_view_module": "@jupyter-widgets/base",
            "_view_module_version": "1.2.0",
            "_view_name": "StyleView",
            "description_width": ""
          }
        },
        "4807fe4b56c74f5ca61236125bb0658a": {
          "model_module": "@jupyter-widgets/base",
          "model_name": "LayoutModel",
          "model_module_version": "1.2.0",
          "state": {
            "_model_module": "@jupyter-widgets/base",
            "_model_module_version": "1.2.0",
            "_model_name": "LayoutModel",
            "_view_count": null,
            "_view_module": "@jupyter-widgets/base",
            "_view_module_version": "1.2.0",
            "_view_name": "LayoutView",
            "align_content": null,
            "align_items": null,
            "align_self": null,
            "border": null,
            "bottom": null,
            "display": null,
            "flex": null,
            "flex_flow": null,
            "grid_area": null,
            "grid_auto_columns": null,
            "grid_auto_flow": null,
            "grid_auto_rows": null,
            "grid_column": null,
            "grid_gap": null,
            "grid_row": null,
            "grid_template_areas": null,
            "grid_template_columns": null,
            "grid_template_rows": null,
            "height": null,
            "justify_content": null,
            "justify_items": null,
            "left": null,
            "margin": null,
            "max_height": null,
            "max_width": null,
            "min_height": null,
            "min_width": null,
            "object_fit": null,
            "object_position": null,
            "order": null,
            "overflow": null,
            "overflow_x": null,
            "overflow_y": null,
            "padding": null,
            "right": null,
            "top": null,
            "visibility": null,
            "width": null
          }
        },
        "275666b64e5e42cc8428b05641135546": {
          "model_module": "@jupyter-widgets/controls",
          "model_name": "DescriptionStyleModel",
          "model_module_version": "1.5.0",
          "state": {
            "_model_module": "@jupyter-widgets/controls",
            "_model_module_version": "1.5.0",
            "_model_name": "DescriptionStyleModel",
            "_view_count": null,
            "_view_module": "@jupyter-widgets/base",
            "_view_module_version": "1.2.0",
            "_view_name": "StyleView",
            "description_width": ""
          }
        },
        "1d7d6f97dd0644ad9a606d4fd280a51b": {
          "model_module": "@jupyter-widgets/base",
          "model_name": "LayoutModel",
          "model_module_version": "1.2.0",
          "state": {
            "_model_module": "@jupyter-widgets/base",
            "_model_module_version": "1.2.0",
            "_model_name": "LayoutModel",
            "_view_count": null,
            "_view_module": "@jupyter-widgets/base",
            "_view_module_version": "1.2.0",
            "_view_name": "LayoutView",
            "align_content": null,
            "align_items": null,
            "align_self": null,
            "border": null,
            "bottom": null,
            "display": null,
            "flex": null,
            "flex_flow": null,
            "grid_area": null,
            "grid_auto_columns": null,
            "grid_auto_flow": null,
            "grid_auto_rows": null,
            "grid_column": null,
            "grid_gap": null,
            "grid_row": null,
            "grid_template_areas": null,
            "grid_template_columns": null,
            "grid_template_rows": null,
            "height": null,
            "justify_content": null,
            "justify_items": null,
            "left": null,
            "margin": null,
            "max_height": null,
            "max_width": null,
            "min_height": null,
            "min_width": null,
            "object_fit": null,
            "object_position": null,
            "order": null,
            "overflow": null,
            "overflow_x": null,
            "overflow_y": null,
            "padding": null,
            "right": null,
            "top": null,
            "visibility": null,
            "width": null
          }
        },
        "42e91ea9c626460e8fd9a0d09cebb577": {
          "model_module": "@jupyter-widgets/controls",
          "model_name": "DescriptionStyleModel",
          "model_module_version": "1.5.0",
          "state": {
            "_model_module": "@jupyter-widgets/controls",
            "_model_module_version": "1.5.0",
            "_model_name": "DescriptionStyleModel",
            "_view_count": null,
            "_view_module": "@jupyter-widgets/base",
            "_view_module_version": "1.2.0",
            "_view_name": "StyleView",
            "description_width": ""
          }
        },
        "6865a98604e74f519f66393630957ccf": {
          "model_module": "@jupyter-widgets/base",
          "model_name": "LayoutModel",
          "model_module_version": "1.2.0",
          "state": {
            "_model_module": "@jupyter-widgets/base",
            "_model_module_version": "1.2.0",
            "_model_name": "LayoutModel",
            "_view_count": null,
            "_view_module": "@jupyter-widgets/base",
            "_view_module_version": "1.2.0",
            "_view_name": "LayoutView",
            "align_content": null,
            "align_items": null,
            "align_self": null,
            "border": null,
            "bottom": null,
            "display": null,
            "flex": null,
            "flex_flow": null,
            "grid_area": null,
            "grid_auto_columns": null,
            "grid_auto_flow": null,
            "grid_auto_rows": null,
            "grid_column": null,
            "grid_gap": null,
            "grid_row": null,
            "grid_template_areas": null,
            "grid_template_columns": null,
            "grid_template_rows": null,
            "height": null,
            "justify_content": null,
            "justify_items": null,
            "left": null,
            "margin": null,
            "max_height": null,
            "max_width": null,
            "min_height": null,
            "min_width": null,
            "object_fit": null,
            "object_position": null,
            "order": null,
            "overflow": null,
            "overflow_x": null,
            "overflow_y": null,
            "padding": null,
            "right": null,
            "top": null,
            "visibility": null,
            "width": null
          }
        },
        "42bb39e2de6f4376a73e5ef9f92fe0a2": {
          "model_module": "@jupyter-widgets/controls",
          "model_name": "ButtonStyleModel",
          "model_module_version": "1.5.0",
          "state": {
            "_model_module": "@jupyter-widgets/controls",
            "_model_module_version": "1.5.0",
            "_model_name": "ButtonStyleModel",
            "_view_count": null,
            "_view_module": "@jupyter-widgets/base",
            "_view_module_version": "1.2.0",
            "_view_name": "StyleView",
            "button_color": null,
            "font_weight": ""
          }
        },
        "868a162aa1ba484cb280b0db5d765938": {
          "model_module": "@jupyter-widgets/base",
          "model_name": "LayoutModel",
          "model_module_version": "1.2.0",
          "state": {
            "_model_module": "@jupyter-widgets/base",
            "_model_module_version": "1.2.0",
            "_model_name": "LayoutModel",
            "_view_count": null,
            "_view_module": "@jupyter-widgets/base",
            "_view_module_version": "1.2.0",
            "_view_name": "LayoutView",
            "align_content": null,
            "align_items": null,
            "align_self": null,
            "border": null,
            "bottom": null,
            "display": null,
            "flex": null,
            "flex_flow": null,
            "grid_area": null,
            "grid_auto_columns": null,
            "grid_auto_flow": null,
            "grid_auto_rows": null,
            "grid_column": null,
            "grid_gap": null,
            "grid_row": null,
            "grid_template_areas": null,
            "grid_template_columns": null,
            "grid_template_rows": null,
            "height": null,
            "justify_content": null,
            "justify_items": null,
            "left": null,
            "margin": null,
            "max_height": null,
            "max_width": null,
            "min_height": null,
            "min_width": null,
            "object_fit": null,
            "object_position": null,
            "order": null,
            "overflow": null,
            "overflow_x": null,
            "overflow_y": null,
            "padding": null,
            "right": null,
            "top": null,
            "visibility": null,
            "width": null
          }
        },
        "d7fc07964dee4637914bfbbfc9cb7483": {
          "model_module": "@jupyter-widgets/controls",
          "model_name": "DescriptionStyleModel",
          "model_module_version": "1.5.0",
          "state": {
            "_model_module": "@jupyter-widgets/controls",
            "_model_module_version": "1.5.0",
            "_model_name": "DescriptionStyleModel",
            "_view_count": null,
            "_view_module": "@jupyter-widgets/base",
            "_view_module_version": "1.2.0",
            "_view_name": "StyleView",
            "description_width": ""
          }
        },
        "512ddff678f942dd9b70482774ddfde1": {
          "model_module": "@jupyter-widgets/controls",
          "model_name": "HBoxModel",
          "model_module_version": "1.5.0",
          "state": {
            "_dom_classes": [],
            "_model_module": "@jupyter-widgets/controls",
            "_model_module_version": "1.5.0",
            "_model_name": "HBoxModel",
            "_view_count": null,
            "_view_module": "@jupyter-widgets/controls",
            "_view_module_version": "1.5.0",
            "_view_name": "HBoxView",
            "box_style": "",
            "children": [
              "IPY_MODEL_1e0b219c66cc441688db78c757d95773",
              "IPY_MODEL_2f6a42e060f04fa1b2a6f23616578cf6",
              "IPY_MODEL_545da3fa16f84a8e87983b62a6d95a8e"
            ],
            "layout": "IPY_MODEL_7975919920a6449b956ca713b63ddda9"
          }
        },
        "1e0b219c66cc441688db78c757d95773": {
          "model_module": "@jupyter-widgets/controls",
          "model_name": "HTMLModel",
          "model_module_version": "1.5.0",
          "state": {
            "_dom_classes": [],
            "_model_module": "@jupyter-widgets/controls",
            "_model_module_version": "1.5.0",
            "_model_name": "HTMLModel",
            "_view_count": null,
            "_view_module": "@jupyter-widgets/controls",
            "_view_module_version": "1.5.0",
            "_view_name": "HTMLView",
            "description": "",
            "description_tooltip": null,
            "layout": "IPY_MODEL_3fbda8b321b444fb889429c86eafcdab",
            "placeholder": "​",
            "style": "IPY_MODEL_78081e152afb4077a7c2e2eefc277347",
            "value": "Resolving data files: 100%"
          }
        },
        "2f6a42e060f04fa1b2a6f23616578cf6": {
          "model_module": "@jupyter-widgets/controls",
          "model_name": "FloatProgressModel",
          "model_module_version": "1.5.0",
          "state": {
            "_dom_classes": [],
            "_model_module": "@jupyter-widgets/controls",
            "_model_module_version": "1.5.0",
            "_model_name": "FloatProgressModel",
            "_view_count": null,
            "_view_module": "@jupyter-widgets/controls",
            "_view_module_version": "1.5.0",
            "_view_name": "ProgressView",
            "bar_style": "success",
            "description": "",
            "description_tooltip": null,
            "layout": "IPY_MODEL_848a8297a8bb41fd98c54c5d7fb3f7b7",
            "max": 3107,
            "min": 0,
            "orientation": "horizontal",
            "style": "IPY_MODEL_ba55227ab33e470da7506b39df2b50eb",
            "value": 3107
          }
        },
        "545da3fa16f84a8e87983b62a6d95a8e": {
          "model_module": "@jupyter-widgets/controls",
          "model_name": "HTMLModel",
          "model_module_version": "1.5.0",
          "state": {
            "_dom_classes": [],
            "_model_module": "@jupyter-widgets/controls",
            "_model_module_version": "1.5.0",
            "_model_name": "HTMLModel",
            "_view_count": null,
            "_view_module": "@jupyter-widgets/controls",
            "_view_module_version": "1.5.0",
            "_view_name": "HTMLView",
            "description": "",
            "description_tooltip": null,
            "layout": "IPY_MODEL_f8d05acfd55e4be18dc2327050de8961",
            "placeholder": "​",
            "style": "IPY_MODEL_b1b665c4f7ff4d0f98e8935d2bf8720f",
            "value": " 3107/3107 [00:00&lt;00:00, 36.84it/s]"
          }
        },
        "7975919920a6449b956ca713b63ddda9": {
          "model_module": "@jupyter-widgets/base",
          "model_name": "LayoutModel",
          "model_module_version": "1.2.0",
          "state": {
            "_model_module": "@jupyter-widgets/base",
            "_model_module_version": "1.2.0",
            "_model_name": "LayoutModel",
            "_view_count": null,
            "_view_module": "@jupyter-widgets/base",
            "_view_module_version": "1.2.0",
            "_view_name": "LayoutView",
            "align_content": null,
            "align_items": null,
            "align_self": null,
            "border": null,
            "bottom": null,
            "display": null,
            "flex": null,
            "flex_flow": null,
            "grid_area": null,
            "grid_auto_columns": null,
            "grid_auto_flow": null,
            "grid_auto_rows": null,
            "grid_column": null,
            "grid_gap": null,
            "grid_row": null,
            "grid_template_areas": null,
            "grid_template_columns": null,
            "grid_template_rows": null,
            "height": null,
            "justify_content": null,
            "justify_items": null,
            "left": null,
            "margin": null,
            "max_height": null,
            "max_width": null,
            "min_height": null,
            "min_width": null,
            "object_fit": null,
            "object_position": null,
            "order": null,
            "overflow": null,
            "overflow_x": null,
            "overflow_y": null,
            "padding": null,
            "right": null,
            "top": null,
            "visibility": null,
            "width": null
          }
        },
        "3fbda8b321b444fb889429c86eafcdab": {
          "model_module": "@jupyter-widgets/base",
          "model_name": "LayoutModel",
          "model_module_version": "1.2.0",
          "state": {
            "_model_module": "@jupyter-widgets/base",
            "_model_module_version": "1.2.0",
            "_model_name": "LayoutModel",
            "_view_count": null,
            "_view_module": "@jupyter-widgets/base",
            "_view_module_version": "1.2.0",
            "_view_name": "LayoutView",
            "align_content": null,
            "align_items": null,
            "align_self": null,
            "border": null,
            "bottom": null,
            "display": null,
            "flex": null,
            "flex_flow": null,
            "grid_area": null,
            "grid_auto_columns": null,
            "grid_auto_flow": null,
            "grid_auto_rows": null,
            "grid_column": null,
            "grid_gap": null,
            "grid_row": null,
            "grid_template_areas": null,
            "grid_template_columns": null,
            "grid_template_rows": null,
            "height": null,
            "justify_content": null,
            "justify_items": null,
            "left": null,
            "margin": null,
            "max_height": null,
            "max_width": null,
            "min_height": null,
            "min_width": null,
            "object_fit": null,
            "object_position": null,
            "order": null,
            "overflow": null,
            "overflow_x": null,
            "overflow_y": null,
            "padding": null,
            "right": null,
            "top": null,
            "visibility": null,
            "width": null
          }
        },
        "78081e152afb4077a7c2e2eefc277347": {
          "model_module": "@jupyter-widgets/controls",
          "model_name": "DescriptionStyleModel",
          "model_module_version": "1.5.0",
          "state": {
            "_model_module": "@jupyter-widgets/controls",
            "_model_module_version": "1.5.0",
            "_model_name": "DescriptionStyleModel",
            "_view_count": null,
            "_view_module": "@jupyter-widgets/base",
            "_view_module_version": "1.2.0",
            "_view_name": "StyleView",
            "description_width": ""
          }
        },
        "848a8297a8bb41fd98c54c5d7fb3f7b7": {
          "model_module": "@jupyter-widgets/base",
          "model_name": "LayoutModel",
          "model_module_version": "1.2.0",
          "state": {
            "_model_module": "@jupyter-widgets/base",
            "_model_module_version": "1.2.0",
            "_model_name": "LayoutModel",
            "_view_count": null,
            "_view_module": "@jupyter-widgets/base",
            "_view_module_version": "1.2.0",
            "_view_name": "LayoutView",
            "align_content": null,
            "align_items": null,
            "align_self": null,
            "border": null,
            "bottom": null,
            "display": null,
            "flex": null,
            "flex_flow": null,
            "grid_area": null,
            "grid_auto_columns": null,
            "grid_auto_flow": null,
            "grid_auto_rows": null,
            "grid_column": null,
            "grid_gap": null,
            "grid_row": null,
            "grid_template_areas": null,
            "grid_template_columns": null,
            "grid_template_rows": null,
            "height": null,
            "justify_content": null,
            "justify_items": null,
            "left": null,
            "margin": null,
            "max_height": null,
            "max_width": null,
            "min_height": null,
            "min_width": null,
            "object_fit": null,
            "object_position": null,
            "order": null,
            "overflow": null,
            "overflow_x": null,
            "overflow_y": null,
            "padding": null,
            "right": null,
            "top": null,
            "visibility": null,
            "width": null
          }
        },
        "ba55227ab33e470da7506b39df2b50eb": {
          "model_module": "@jupyter-widgets/controls",
          "model_name": "ProgressStyleModel",
          "model_module_version": "1.5.0",
          "state": {
            "_model_module": "@jupyter-widgets/controls",
            "_model_module_version": "1.5.0",
            "_model_name": "ProgressStyleModel",
            "_view_count": null,
            "_view_module": "@jupyter-widgets/base",
            "_view_module_version": "1.2.0",
            "_view_name": "StyleView",
            "bar_color": null,
            "description_width": ""
          }
        },
        "f8d05acfd55e4be18dc2327050de8961": {
          "model_module": "@jupyter-widgets/base",
          "model_name": "LayoutModel",
          "model_module_version": "1.2.0",
          "state": {
            "_model_module": "@jupyter-widgets/base",
            "_model_module_version": "1.2.0",
            "_model_name": "LayoutModel",
            "_view_count": null,
            "_view_module": "@jupyter-widgets/base",
            "_view_module_version": "1.2.0",
            "_view_name": "LayoutView",
            "align_content": null,
            "align_items": null,
            "align_self": null,
            "border": null,
            "bottom": null,
            "display": null,
            "flex": null,
            "flex_flow": null,
            "grid_area": null,
            "grid_auto_columns": null,
            "grid_auto_flow": null,
            "grid_auto_rows": null,
            "grid_column": null,
            "grid_gap": null,
            "grid_row": null,
            "grid_template_areas": null,
            "grid_template_columns": null,
            "grid_template_rows": null,
            "height": null,
            "justify_content": null,
            "justify_items": null,
            "left": null,
            "margin": null,
            "max_height": null,
            "max_width": null,
            "min_height": null,
            "min_width": null,
            "object_fit": null,
            "object_position": null,
            "order": null,
            "overflow": null,
            "overflow_x": null,
            "overflow_y": null,
            "padding": null,
            "right": null,
            "top": null,
            "visibility": null,
            "width": null
          }
        },
        "b1b665c4f7ff4d0f98e8935d2bf8720f": {
          "model_module": "@jupyter-widgets/controls",
          "model_name": "DescriptionStyleModel",
          "model_module_version": "1.5.0",
          "state": {
            "_model_module": "@jupyter-widgets/controls",
            "_model_module_version": "1.5.0",
            "_model_name": "DescriptionStyleModel",
            "_view_count": null,
            "_view_module": "@jupyter-widgets/base",
            "_view_module_version": "1.2.0",
            "_view_name": "StyleView",
            "description_width": ""
          }
        }
      }
    },
    "accelerator": "GPU"
  },
  "cells": [
    {
      "cell_type": "markdown",
      "metadata": {
        "id": "view-in-github",
        "colab_type": "text"
      },
      "source": [
        "<a href=\"https://colab.research.google.com/github/yesdeepakmittal/image-features-analysis/blob/main/Image_feature_analysis.ipynb\" target=\"_parent\"><img src=\"https://colab.research.google.com/assets/colab-badge.svg\" alt=\"Open In Colab\"/></a>"
      ]
    },
    {
      "cell_type": "markdown",
      "source": [
        "# Adverstisement creativity Recognition with Computer Vision\n",
        "\n",
        "*Problem Description*:\n",
        "Develop an advanced Computer Vision solution capable of identifying whether an image is an advertising creative or not. This task involves detecting visual patterns and features commonly associated with advertisements.\n",
        "\n",
        "*Approach*:\n",
        "1. **Data Collection**: In this project, I will use two sets of data. One set will be for `ad-creative` images and another set will be for `non-ad creative`.\n",
        "\n",
        "    - `ad-creative`(class=1):\n",
        "        - `PeterBrendan/AdImageNet` dataset from `HuggingFace`\n",
        "\n",
        "            I will use `1000` images from this dataset\n",
        "            - training: `700`(original) + `700`(Augmented from original images)\n",
        "            - validation: `150`(original)\n",
        "            - testing: `150`(original)\n",
        "    - `non-ad creative`(class=0):\n",
        "        - `viola77data/recycling-dataset` from `HuggingFace`: `200` images from this dataset\n",
        "\n",
        "        - `TheBirdLegacy/DALL-E-Cats` from `HuggingFace`: `200` images from this dataset\n",
        "        - `AI-Lab-Makerere/beans` from `HuggingFace`: `200` images from this dataset\n",
        "        - `keremberke/painting-style-classification` from `HuggingFace`: `200` images from this dataset\n",
        "        - `nroggendorff/flowers` from `HuggingFace`: `200` images from this dataset\n",
        "\n",
        "            - training: `700`(original)\n",
        "            - validation: `150`(original)\n",
        "            - testing: `150`(original)\n",
        "\n",
        "    Note: `ad-creative` contains augmented images with double the size of `non-ad creative` images to intentionally demonstrate the `Data Augmentation` & `Class Imbalance` problem.\n",
        "    \n",
        "2. **Data Preparation**: Below-mentioned transformations are applied on the images:\n",
        "    - All images are convert to `RGB`(including grayscale)\n",
        "    - Resizing every image to `256 x 256`\n",
        "    - Centercrop to `224 x 224`\n",
        "    - Out of 6 Data Augmentation techniques mentioned in this project, a random augmentation technique will be applied to generate an augmented image.\n",
        "    - Tensor is normalized with the standard ImageNet configuration.\n",
        "\n",
        "3. **Modelling**: In this project, we will target to solve 3 problems:\n",
        "    - **Image Classification**: We will use a `CNN variant` for feature extraction and add a linear classifier for image classification.\n",
        "    - **Object Detection**: To identify the logos or product images, we will use an object detection model(`YOLO variant`).\n",
        "    - **Multimodal**: To incorporate textual information, we will use a multimodal like `LayoutLM variant` for the classfication along with an `OCR` like `Tesseract` or `Google Vision`.\n",
        "    - **Color Scheme Analysis**: To analyse the color scheme, we will analyze the distribution of colors by generating histograms."
      ],
      "metadata": {
        "id": "Z1ke1rirZ8DK"
      }
    },
    {
      "cell_type": "code",
      "source": [
        "!pip install -q datasets transformers"
      ],
      "metadata": {
        "id": "By3ESq9PpqTb"
      },
      "execution_count": null,
      "outputs": []
    },
    {
      "cell_type": "code",
      "execution_count": null,
      "metadata": {
        "id": "GrQn7ZRyLoxT"
      },
      "outputs": [],
      "source": [
        "# Importing libraries for data collection and preprocessing\n",
        "import io\n",
        "import random\n",
        "\n",
        "import torch\n",
        "from torchvision import datasets\n",
        "from torchvision import transforms\n",
        "from torch.utils.data import Subset\n",
        "from torch.utils.data import DataLoader\n",
        "from torch.utils.data import ConcatDataset\n",
        "from torch.utils.data import TensorDataset\n",
        "import torch.utils.data as torch_data\n",
        "\n",
        "\n",
        "from datasets import load_dataset\n",
        "from transformers import AutoTokenizer\n",
        "\n",
        "from PIL import Image\n",
        "import numpy as np\n",
        "import matplotlib.pyplot as plt"
      ]
    },
    {
      "cell_type": "code",
      "source": [
        "from huggingface_hub import login\n",
        "\n",
        "# Log in to Hugging Face and generate a user access token\n",
        "# Visit https://huggingface.co/settings/tokens to create a token\n",
        "login()"
      ],
      "metadata": {
        "colab": {
          "base_uri": "https://localhost:8080/",
          "height": 331,
          "referenced_widgets": [
            "6bf11ddc500d49a7967515da30625ced",
            "e5e2df8c24544e3f9bf1c72e91980349",
            "c0b3285081d745e19519d0ad7c71487c",
            "94ec15b3ae3542fdb77c3d20868b48c2",
            "99ec3f695be3436097666b23987c681c",
            "b70e2d6f13d249c19f51dbb421cedeed",
            "f84b53d05ee4465e99a7a5adffad109f",
            "ae3b8dc848fd4857aadc2dbe6e890ee9",
            "83c40db5578a40c485205f52e651f515",
            "4807fe4b56c74f5ca61236125bb0658a",
            "275666b64e5e42cc8428b05641135546",
            "1d7d6f97dd0644ad9a606d4fd280a51b",
            "42e91ea9c626460e8fd9a0d09cebb577",
            "6865a98604e74f519f66393630957ccf",
            "42bb39e2de6f4376a73e5ef9f92fe0a2",
            "868a162aa1ba484cb280b0db5d765938",
            "d7fc07964dee4637914bfbbfc9cb7483"
          ]
        },
        "id": "XOF1F_VDqkqg",
        "outputId": "804994df-ed2a-45bf-d6f8-feb6dc6f79f1"
      },
      "execution_count": null,
      "outputs": [
        {
          "output_type": "display_data",
          "data": {
            "text/plain": [
              "VBox(children=(HTML(value='<center> <img\\nsrc=https://huggingface.co/front/assets/huggingface_logo-noborder.sv…"
            ],
            "application/vnd.jupyter.widget-view+json": {
              "version_major": 2,
              "version_minor": 0,
              "model_id": "6bf11ddc500d49a7967515da30625ced"
            }
          },
          "metadata": {}
        }
      ]
    },
    {
      "cell_type": "code",
      "source": [
        "data_link = 'PeterBrendan/AdImageNet'\n",
        "\n",
        "dataset = load_dataset(data_link, split='train')"
      ],
      "metadata": {
        "colab": {
          "base_uri": "https://localhost:8080/"
        },
        "id": "G5h0jyNIpoMy",
        "outputId": "90ff37a4-1d3e-428e-e751-519cabbd1ae0"
      },
      "execution_count": null,
      "outputs": [
        {
          "output_type": "stream",
          "name": "stderr",
          "text": [
            "/usr/local/lib/python3.10/dist-packages/huggingface_hub/utils/_token.py:89: UserWarning: \n",
            "The secret `HF_TOKEN` does not exist in your Colab secrets.\n",
            "To authenticate with the Hugging Face Hub, create a token in your settings tab (https://huggingface.co/settings/tokens), set it as secret in your Google Colab and restart your session.\n",
            "You will be able to reuse this secret in all of your notebooks.\n",
            "Please note that authentication is recommended but still optional to access public models or datasets.\n",
            "  warnings.warn(\n"
          ]
        }
      ]
    },
    {
      "cell_type": "code",
      "source": [
        "# Select an image from the dataset\n",
        "image_data = dataset[2]['image']\n",
        "image_data"
      ],
      "metadata": {
        "colab": {
          "base_uri": "https://localhost:8080/",
          "height": 267
        },
        "id": "1cHfiJuru09N",
        "outputId": "1c8c74dd-9860-4b40-ebfd-d20f44b483aa"
      },
      "execution_count": null,
      "outputs": [
        {
          "output_type": "execute_result",
          "data": {
            "text/plain": [
              "<PIL.JpegImagePlugin.JpegImageFile image mode=RGB size=300x250>"
            ],
            "image/png": "[encoded data removed]"
          },
          "metadata": {},
          "execution_count": 5
        }
      ]
    },
    {
      "cell_type": "code",
      "source": [
        "image_data.size"
      ],
      "metadata": {
        "colab": {
          "base_uri": "https://localhost:8080/"
        },
        "id": "84c4Zdb62b6J",
        "outputId": "a64daba2-3227-48d6-9581-d4451fa249bf"
      },
      "execution_count": null,
      "outputs": [
        {
          "output_type": "execute_result",
          "data": {
            "text/plain": [
              "(300, 250)"
            ]
          },
          "metadata": {},
          "execution_count": 6
        }
      ]
    },
    {
      "cell_type": "code",
      "source": [
        "image_data.resize((224, 224))"
      ],
      "metadata": {
        "colab": {
          "base_uri": "https://localhost:8080/",
          "height": 241
        },
        "id": "eSrUZvYw2yrd",
        "outputId": "aa1753d6-65a9-464f-b3e7-6ce9497845b3"
      },
      "execution_count": null,
      "outputs": [
        {
          "output_type": "execute_result",
          "data": {
            "text/plain": [
              "<PIL.Image.Image image mode=RGB size=224x224>"
            ],
            "image/png": "[encoded data removed]"
          },
          "metadata": {},
          "execution_count": 7
        }
      ]
    },
    {
      "cell_type": "code",
      "source": [
        "# dataset size\n",
        "len(dataset)"
      ],
      "metadata": {
        "colab": {
          "base_uri": "https://localhost:8080/"
        },
        "id": "qCqIPINh4yPT",
        "outputId": "19edeebb-27e9-456d-8c34-3b357f750f8f"
      },
      "execution_count": null,
      "outputs": [
        {
          "output_type": "execute_result",
          "data": {
            "text/plain": [
              "9003"
            ]
          },
          "metadata": {},
          "execution_count": 8
        }
      ]
    },
    {
      "cell_type": "code",
      "source": [
        "dataset = dataset.select(range(1000))\n",
        "len(dataset)"
      ],
      "metadata": {
        "colab": {
          "base_uri": "https://localhost:8080/"
        },
        "id": "d-GALsFVQMdO",
        "outputId": "6ffdd0fa-f7a2-455a-aebb-d44c18356531"
      },
      "execution_count": null,
      "outputs": [
        {
          "output_type": "execute_result",
          "data": {
            "text/plain": [
              "1000"
            ]
          },
          "metadata": {},
          "execution_count": 9
        }
      ]
    },
    {
      "cell_type": "code",
      "source": [
        "# Function to convert grayscale to RGB\n",
        "# def convert_grayscale_to_rgb(image):\n",
        "#     if image.mode != 'RGB':\n",
        "#         return image.convert('RGB')\n",
        "#     return image\n",
        "\n",
        "def convert_grayscale_to_rgb(image):\n",
        "    if isinstance(image, torch.Tensor):\n",
        "        # Check if the tensor has 3 channels (shape: [C, H, W])\n",
        "        if image.size(0) == 3:\n",
        "            return image\n",
        "        else:\n",
        "            # Convert single-channel tensor to 3-channel tensor by repeating the channel dimension\n",
        "            return image.repeat(3, 1, 1)\n",
        "    else:\n",
        "        # If the input is a PIL Image, convert to RGB\n",
        "        if image.mode != 'RGB':\n",
        "            return image.convert('RGB')\n",
        "        return image\n",
        "\n",
        "# Define the transformations\n",
        "transform_original = transforms.Compose([\n",
        "    transforms.Resize((256, 256)),                   # Resize to 256x256\n",
        "    transforms.CenterCrop(224),                      # Center crop to 224x224\n",
        "    transforms.Lambda(lambda img: convert_grayscale_to_rgb(img)),  # Convert grayscale to RGB\n",
        "    transforms.ToTensor(),                           # Convert the image to a PyTorch tensor\n",
        "    transforms.Normalize(mean=[0.485, 0.456, 0.406], # Normalize with mean and std\n",
        "                         std=[0.229, 0.224, 0.225])\n",
        "])\n",
        "\n",
        "# Define the transformations for Image Augmentation\n",
        "transform_aug = transforms.Compose([\n",
        "    transforms.Resize((256, 256)),                   # Resize to 256x256\n",
        "    transforms.CenterCrop(224),                      # Center crop to 224x224\n",
        "    transforms.Lambda(lambda img: convert_grayscale_to_rgb(img)),  # Convert grayscale to RGB\n",
        "    transforms.RandomChoice([\n",
        "        transforms.RandomHorizontalFlip(p=0.5),      # Random horizontal flip with 50% probability\n",
        "        transforms.RandomVerticalFlip(p=0.5),        # Random vertical flip with 50% probability\n",
        "        transforms.RandomRotation(degrees=45),       # Random rotation within 45 degrees\n",
        "        transforms.ColorJitter(brightness=0.5,       # Random change in brightness, contrast, saturation, and hue\n",
        "                               contrast=0.5,\n",
        "                               saturation=0.5,\n",
        "                               hue=0.1),\n",
        "        transforms.RandomGrayscale(p=0.1),           # Randomly convert images to grayscale with 10% probability\n",
        "        transforms.RandomAffine(degrees=30,          # Random affine transformations with 30 degrees rotation\n",
        "                                translate=(0.1, 0.1),\n",
        "                                scale=(0.8, 1.2),\n",
        "                                shear=10),\n",
        "    ]),\n",
        "    transforms.ToTensor(),                           # Convert the image to a PyTorch tensor\n",
        "    transforms.Normalize(mean=[0.485, 0.456, 0.406], # Normalize with mean and std\n",
        "                         std=[0.229, 0.224, 0.225])\n",
        "])\n",
        "\n",
        "# Apply transformations using Dataset and DataLoader\n",
        "class CustomDataset(torch.utils.data.Dataset):\n",
        "    def __init__(self, dataset, transform=None, label=1):\n",
        "        self.dataset = dataset\n",
        "        self.transform = transform\n",
        "        self.label = label\n",
        "\n",
        "    def __len__(self):\n",
        "        return len(self.dataset)\n",
        "\n",
        "    def __getitem__(self, idx):\n",
        "        # sample = self.dataset[idx]\n",
        "        # sample['image'] = self.transform(sample['image'])\n",
        "        # return sample['image'], torch.tensor(self.label, dtype=torch.long)\n",
        "        sample = self.dataset[idx]\n",
        "        # Check if 'image' is already a tensor\n",
        "        if not isinstance(sample['image'], torch.Tensor):\n",
        "            sample['image'] = self.transform(sample['image'])  # Apply transform only if not a tensor\n",
        "        return sample['image'], torch.tensor(self.label, dtype=torch.long)"
      ],
      "metadata": {
        "id": "XlMgSxIlpl03"
      },
      "execution_count": null,
      "outputs": []
    },
    {
      "cell_type": "markdown",
      "source": [
        "### Splitting dataset for Training, Validation, and Testing"
      ],
      "metadata": {
        "id": "vLxHhmHF4dRk"
      }
    },
    {
      "cell_type": "code",
      "source": [
        "def train_val_test_split(dataset):\n",
        "    # Define the sizes for training, validation, and testing sets\n",
        "    train_size = int(0.7 * len(dataset))\n",
        "    val_size = int(0.15 * len(dataset))\n",
        "    test_size = len(dataset) - train_size - val_size\n",
        "\n",
        "    # Set a random seed for reproducibility\n",
        "    random.seed(42)\n",
        "\n",
        "    # Generate indices and shuffle\n",
        "    indices = list(range(len(dataset)))\n",
        "    random.shuffle(indices)\n",
        "\n",
        "    # Split indices\n",
        "    train_indices = indices[:train_size]\n",
        "    val_indices = indices[train_size:train_size + val_size]\n",
        "    test_indices = indices[train_size + val_size:]\n",
        "\n",
        "    # Create subsets using Subset class from PyTorch\n",
        "    train_dataset = Subset(dataset, train_indices)\n",
        "    val_dataset = Subset(dataset, val_indices)\n",
        "    test_dataset = Subset(dataset, test_indices)\n",
        "\n",
        "    return train_dataset, val_dataset, test_dataset\n",
        "\n",
        "train_dataset, val_dataset, test_dataset = train_val_test_split(dataset)\n",
        "\n",
        "print(f\"Training set length:{len(train_dataset)}\")\n",
        "print(f\"Validation set length:{len(val_dataset)}\")\n",
        "print(f\"Testing set length:{len(test_dataset)}\")"
      ],
      "metadata": {
        "colab": {
          "base_uri": "https://localhost:8080/"
        },
        "id": "lx4ZHKvb4iEz",
        "outputId": "2e05d605-8b5a-4c4c-de1d-850a5f78bffa"
      },
      "execution_count": null,
      "outputs": [
        {
          "output_type": "stream",
          "name": "stdout",
          "text": [
            "Training set length:700\n",
            "Validation set length:150\n",
            "Testing set length:150\n"
          ]
        }
      ]
    },
    {
      "cell_type": "code",
      "source": [
        "train_transformed_dataset = CustomDataset(train_dataset, transform=transform_original, label=1)\n",
        "val_transformed_dataset = CustomDataset(val_dataset, transform=transform_original, label=1)\n",
        "test_transformed_dataset = CustomDataset(test_dataset, transform=transform_original, label=1)\n",
        "train_augmented_dataset = CustomDataset(train_dataset, transform=transform_aug, label=1)\n",
        "\n",
        "# Combine transformed training dataset with augmented dataset\n",
        "combined_train_dataset = ConcatDataset([train_transformed_dataset, train_augmented_dataset])"
      ],
      "metadata": {
        "id": "UjG163g_8WuZ"
      },
      "execution_count": null,
      "outputs": []
    },
    {
      "cell_type": "code",
      "source": [
        "len(combined_train_dataset)"
      ],
      "metadata": {
        "colab": {
          "base_uri": "https://localhost:8080/"
        },
        "id": "RGt_Cyfd8Wr3",
        "outputId": "f783737d-9cd8-4ac0-8802-84d6a3088858"
      },
      "execution_count": null,
      "outputs": [
        {
          "output_type": "execute_result",
          "data": {
            "text/plain": [
              "1400"
            ]
          },
          "metadata": {},
          "execution_count": 31
        }
      ]
    },
    {
      "cell_type": "code",
      "source": [
        "# # Apply the transformations\n",
        "# transformed_image = transform_original(image_data)\n",
        "\n",
        "# # Convert the transformed tensor back to a PIL image for visualization\n",
        "# transformed_image_pil = transforms.ToPILImage()(transformed_image)\n",
        "\n",
        "# # Display the original and transformed images\n",
        "# fig, axes = plt.subplots(1, 2, figsize=(12, 6))\n",
        "# axes[0].imshow(image_data)\n",
        "# axes[0].set_title(\"Original Image\")\n",
        "# axes[0].axis('off')\n",
        "\n",
        "# axes[1].imshow(transformed_image_pil)\n",
        "# axes[1].set_title(\"Transformed(Original) Image\")\n",
        "# axes[1].axis('off')\n",
        "\n",
        "# plt.show()"
      ],
      "metadata": {
        "id": "sYxtxzfui1hk"
      },
      "execution_count": null,
      "outputs": []
    },
    {
      "cell_type": "code",
      "source": [
        "# # Apply the transformations\n",
        "# transformed_image = transform_aug(image_data)\n",
        "\n",
        "# # Convert the transformed tensor back to a PIL image for visualization\n",
        "# transformed_image_pil = transforms.ToPILImage()(transformed_image)\n",
        "\n",
        "# # Display the original and transformed images\n",
        "# fig, axes = plt.subplots(1, 2, figsize=(12, 6))\n",
        "# axes[0].imshow(image_data)\n",
        "# axes[0].set_title(\"Original Image\")\n",
        "# axes[0].axis('off')\n",
        "\n",
        "# axes[1].imshow(transformed_image_pil)\n",
        "# axes[1].set_title(\"Transformed(Augmented) Image\")\n",
        "# axes[1].axis('off')\n",
        "\n",
        "# plt.show()"
      ],
      "metadata": {
        "id": "t1xIcp0e2TjP"
      },
      "execution_count": null,
      "outputs": []
    },
    {
      "cell_type": "code",
      "source": [],
      "metadata": {
        "id": "36tQlrzV20pS"
      },
      "execution_count": null,
      "outputs": []
    },
    {
      "cell_type": "code",
      "source": [
        "# Load and limit each non-ad creative dataset to 200 examples\n",
        "num_samples_per_dataset = 200\n",
        "\n",
        "# Load and limit first dataset\n",
        "non_ad_link = 'viola77data/recycling-dataset'\n",
        "non_ad_dataset = load_dataset(non_ad_link, split='train')\n",
        "non_ad_dataset = non_ad_dataset.select(range(num_samples_per_dataset))\n",
        "\n",
        "# Load and limit second dataset\n",
        "non_ad_link_2 = 'TheBirdLegacy/DALL-E-Cats'\n",
        "non_ad_dataset_2 = load_dataset(non_ad_link_2, split='train')\n",
        "non_ad_dataset_2 = non_ad_dataset_2.select(range(num_samples_per_dataset))\n",
        "\n",
        "# Load and limit third dataset\n",
        "non_ad_link_3 = 'AI-Lab-Makerere/beans'\n",
        "non_ad_dataset_3 = load_dataset(non_ad_link_3, split='train')\n",
        "non_ad_dataset_3 = non_ad_dataset_3.select(range(num_samples_per_dataset))\n",
        "\n",
        "# Load and limit fourth dataset\n",
        "non_ad_link_4 = 'keremberke/painting-style-classification'\n",
        "non_ad_dataset_4 = load_dataset(non_ad_link_4, name=\"full\", split='train')\n",
        "non_ad_dataset_4 = non_ad_dataset_4.select(range(num_samples_per_dataset))\n",
        "\n",
        "# Load and limit fifth dataset\n",
        "non_ad_link_5 = 'nroggendorff/flowers'\n",
        "non_ad_dataset_5 = load_dataset(non_ad_link_5, split='train')\n",
        "non_ad_dataset_5 = non_ad_dataset_5.select(range(num_samples_per_dataset))"
      ],
      "metadata": {
        "colab": {
          "base_uri": "https://localhost:8080/",
          "height": 49,
          "referenced_widgets": [
            "512ddff678f942dd9b70482774ddfde1",
            "1e0b219c66cc441688db78c757d95773",
            "2f6a42e060f04fa1b2a6f23616578cf6",
            "545da3fa16f84a8e87983b62a6d95a8e",
            "7975919920a6449b956ca713b63ddda9",
            "3fbda8b321b444fb889429c86eafcdab",
            "78081e152afb4077a7c2e2eefc277347",
            "848a8297a8bb41fd98c54c5d7fb3f7b7",
            "ba55227ab33e470da7506b39df2b50eb",
            "f8d05acfd55e4be18dc2327050de8961",
            "b1b665c4f7ff4d0f98e8935d2bf8720f"
          ]
        },
        "id": "uyO2FM_RGmc7",
        "outputId": "74c41fa8-eec6-4b9d-c6b3-2c4ef717ba9c"
      },
      "execution_count": null,
      "outputs": [
        {
          "output_type": "display_data",
          "data": {
            "text/plain": [
              "Resolving data files:   0%|          | 0/3107 [00:00<?, ?it/s]"
            ],
            "application/vnd.jupyter.widget-view+json": {
              "version_major": 2,
              "version_minor": 0,
              "model_id": "512ddff678f942dd9b70482774ddfde1"
            }
          },
          "metadata": {}
        }
      ]
    },
    {
      "cell_type": "code",
      "source": [
        "all_non_ad = []\n",
        "for ds in [non_ad_dataset, non_ad_dataset_2, non_ad_dataset_3, non_ad_dataset_4, non_ad_dataset_5]:\n",
        "    for sample in ds:\n",
        "        try:\n",
        "            image = Image.fromarray(sample['image']) if isinstance(sample['image'], np.ndarray) else sample['image']\n",
        "        except:\n",
        "            image = Image.fromarray(sample['Images']) if isinstance(sample['Images'], np.ndarray) else sample['Images']\n",
        "        all_non_ad.append({'image':image})\n",
        "\n",
        "train_non_ad_dataset, val_non_ad_dataset, test_non_ad_dataset = train_val_test_split(all_non_ad)\n",
        "\n",
        "print(f\"Training set length:{len(train_non_ad_dataset)}\")\n",
        "print(f\"Validation set length:{len(val_non_ad_dataset)}\")\n",
        "print(f\"Testing set length:{len(test_non_ad_dataset)}\")\n",
        "\n",
        "train_non_ad_dataset = CustomDataset(train_non_ad_dataset, transform=transform_original, label=0)\n",
        "val_non_ad_dataset = CustomDataset(val_non_ad_dataset, transform=transform_original, label=0)\n",
        "test_non_ad_dataset = CustomDataset(test_non_ad_dataset, transform=transform_original, label=0)"
      ],
      "metadata": {
        "colab": {
          "base_uri": "https://localhost:8080/"
        },
        "id": "E_4tFr3KdHMs",
        "outputId": "72114314-d52f-4c0f-cb3f-ccb498a51641"
      },
      "execution_count": null,
      "outputs": [
        {
          "output_type": "stream",
          "name": "stdout",
          "text": [
            "Training set length:700\n",
            "Validation set length:150\n",
            "Testing set length:150\n"
          ]
        }
      ]
    },
    {
      "cell_type": "code",
      "source": [
        "# Merging ad-creative & non-ad creative datasets\n",
        "combined_train_dataset = ConcatDataset([combined_train_dataset, train_non_ad_dataset])\n",
        "combined_val_dataset = ConcatDataset([val_transformed_dataset, val_non_ad_dataset])\n",
        "combined_test_dataset = ConcatDataset([test_transformed_dataset, test_non_ad_dataset])\n",
        "\n",
        "# Create DataLoader instances for the combined datasets\n",
        "train_loader = DataLoader(combined_train_dataset, batch_size=32, shuffle=True)\n",
        "val_loader = DataLoader(combined_val_dataset, batch_size=32, shuffle=False)\n",
        "test_loader = DataLoader(combined_test_dataset, batch_size=32, shuffle=False)"
      ],
      "metadata": {
        "id": "u6zodyF1oUMn"
      },
      "execution_count": null,
      "outputs": []
    },
    {
      "cell_type": "code",
      "source": [
        "len(combined_train_dataset), len(combined_val_dataset), len(combined_test_dataset)"
      ],
      "metadata": {
        "colab": {
          "base_uri": "https://localhost:8080/"
        },
        "id": "K0OxPDT8mu2E",
        "outputId": "bb7f17d0-30b3-4955-a1ea-65d2112e69ec"
      },
      "execution_count": null,
      "outputs": [
        {
          "output_type": "execute_result",
          "data": {
            "text/plain": [
              "(2100, 300, 300)"
            ]
          },
          "metadata": {},
          "execution_count": 37
        }
      ]
    },
    {
      "cell_type": "code",
      "source": [
        "for batch in val_loader:\n",
        "    print(batch[0].shape)\n",
        "    print(batch[0][0].shape)\n",
        "    break"
      ],
      "metadata": {
        "colab": {
          "base_uri": "https://localhost:8080/"
        },
        "id": "-sKMkGXz8-p0",
        "outputId": "7f418aac-36bb-4888-ae46-e99adfeb9039"
      },
      "execution_count": null,
      "outputs": [
        {
          "output_type": "stream",
          "name": "stdout",
          "text": [
            "torch.Size([32, 3, 224, 224])\n",
            "torch.Size([3, 224, 224])\n"
          ]
        }
      ]
    },
    {
      "cell_type": "markdown",
      "source": [
        "### Training Binary classifier using ResNet50 for feature extraction"
      ],
      "metadata": {
        "id": "nVTP-jYL7aZK"
      }
    },
    {
      "cell_type": "code",
      "source": [
        "import torch.nn as nn\n",
        "import torch.optim as optim\n",
        "from torchvision import models\n",
        "from sklearn.metrics import accuracy_score, confusion_matrix\n",
        "from torch.optim.lr_scheduler import StepLR\n",
        "\n",
        "# Define the ResNet50 model for feature extraction\n",
        "class ResNet50Classifier(nn.Module):\n",
        "    def __init__(self):\n",
        "        super(ResNet50Classifier, self).__init__()\n",
        "        self.resnet50 = models.resnet50(pretrained=True)\n",
        "        self.resnet50.fc = nn.Linear(self.resnet50.fc.in_features, 2)  # Binary classification\n",
        "\n",
        "    def forward(self, x):\n",
        "        return self.resnet50(x)\n",
        "\n",
        "model = ResNet50Classifier()"
      ],
      "metadata": {
        "id": "UAx6ZDvzp4xP",
        "colab": {
          "base_uri": "https://localhost:8080/"
        },
        "outputId": "e42305e2-6327-4a10-ff02-c9cd0e02b6cd"
      },
      "execution_count": null,
      "outputs": [
        {
          "output_type": "stream",
          "name": "stderr",
          "text": [
            "/usr/local/lib/python3.10/dist-packages/torchvision/models/_utils.py:208: UserWarning: The parameter 'pretrained' is deprecated since 0.13 and may be removed in the future, please use 'weights' instead.\n",
            "  warnings.warn(\n",
            "/usr/local/lib/python3.10/dist-packages/torchvision/models/_utils.py:223: UserWarning: Arguments other than a weight enum or `None` for 'weights' are deprecated since 0.13 and may be removed in the future. The current behavior is equivalent to passing `weights=ResNet50_Weights.IMAGENET1K_V1`. You can also use `weights=ResNet50_Weights.DEFAULT` to get the most up-to-date weights.\n",
            "  warnings.warn(msg)\n"
          ]
        }
      ]
    },
    {
      "cell_type": "markdown",
      "source": [
        "### Define Loss Function and Optimizer"
      ],
      "metadata": {
        "id": "GvmVeIU38RxB"
      }
    },
    {
      "cell_type": "code",
      "source": [
        "# Check if GPU is available\n",
        "device = torch.device(\"cuda\" if torch.cuda.is_available() else \"cpu\")\n",
        "\n",
        "class_weights = torch.tensor([1.0, 2.0], dtype=torch.float).to(device)  # Adjust weights based on class imbalance\n",
        "criterion = nn.CrossEntropyLoss(weight=class_weights)\n",
        "optimizer = optim.Adam(model.parameters(), lr=0.001)\n",
        "scheduler = StepLR(optimizer, step_size=7, gamma=0.1)"
      ],
      "metadata": {
        "id": "OKa-3NGA8EQc"
      },
      "execution_count": null,
      "outputs": []
    },
    {
      "cell_type": "markdown",
      "source": [
        "### Model Training"
      ],
      "metadata": {
        "id": "h7VyoD2y8egy"
      }
    },
    {
      "cell_type": "code",
      "source": [
        "# Move model to the GPU\n",
        "model.to(device)\n",
        "\n",
        "num_epochs = 25\n",
        "train_losses, val_losses, train_accuracies, val_accuracies = [], [], [], []\n",
        "\n",
        "for epoch in range(num_epochs):\n",
        "    model.train()\n",
        "    running_loss = 0.0\n",
        "    correct = 0\n",
        "    total = 0\n",
        "\n",
        "    for inputs, labels in train_loader:\n",
        "        # Move inputs and labels to the GPU\n",
        "        inputs, labels = inputs.to(device), labels.to(device)\n",
        "\n",
        "        optimizer.zero_grad()\n",
        "        outputs = model(inputs)\n",
        "        loss = criterion(outputs, labels)\n",
        "        loss.backward()\n",
        "        optimizer.step()\n",
        "\n",
        "        running_loss += loss.item() * inputs.size(0)\n",
        "        _, predicted = torch.max(outputs, 1)\n",
        "        total += labels.size(0)\n",
        "        correct += (predicted == labels).sum().item()\n",
        "\n",
        "    train_loss = running_loss / total\n",
        "    train_accuracy = correct / total\n",
        "    train_losses.append(train_loss)\n",
        "    train_accuracies.append(train_accuracy)\n",
        "\n",
        "    model.eval()\n",
        "    val_loss = 0.0\n",
        "    correct = 0\n",
        "    total = 0\n",
        "\n",
        "    with torch.no_grad():\n",
        "        for inputs, labels in val_loader:\n",
        "            # Move inputs and labels to the GPU\n",
        "            inputs, labels = inputs.to(device), labels.to(device)\n",
        "\n",
        "            outputs = model(inputs)\n",
        "            loss = criterion(outputs, labels)\n",
        "            val_loss += loss.item() * inputs.size(0)\n",
        "            _, predicted = torch.max(outputs, 1)\n",
        "            total += labels.size(0)\n",
        "            correct += (predicted == labels).sum().item()\n",
        "\n",
        "    val_loss /= total\n",
        "    val_accuracy = correct / total\n",
        "    val_losses.append(val_loss)\n",
        "    val_accuracies.append(val_accuracy)\n",
        "\n",
        "    print(f'Epoch {epoch+1}/{num_epochs}, Train Loss: {train_loss:.4f}, Train Accuracy: {train_accuracy:.4f}, Val Loss: {val_loss:.4f}, Val Accuracy: {val_accuracy:.4f}')\n",
        "\n",
        "    scheduler.step()\n",
        "\n",
        "# Plot Loss and Accuracy\n",
        "epochs = range(1, num_epochs+1)\n",
        "plt.figure(figsize=(12, 4))\n",
        "plt.subplot(1, 2, 1)\n",
        "plt.plot(epochs, train_losses, label='Train Loss')\n",
        "plt.plot(epochs, val_losses, label='Val Loss')\n",
        "plt.xlabel('Epochs')\n",
        "plt.ylabel('Loss')\n",
        "plt.legend()\n",
        "plt.title('Loss vs Epochs')\n",
        "\n",
        "plt.subplot(1, 2, 2)\n",
        "plt.plot(epochs, train_accuracies, label='Train Accuracy')\n",
        "plt.plot(epochs, val_accuracies, label='Val Accuracy')\n",
        "plt.xlabel('Epochs')\n",
        "plt.ylabel('Accuracy')\n",
        "plt.legend()\n",
        "plt.title('Accuracy vs Epochs')\n",
        "\n",
        "plt.show()"
      ],
      "metadata": {
        "colab": {
          "base_uri": "https://localhost:8080/",
          "height": 899
        },
        "id": "qMoTvLbhE7K6",
        "outputId": "62b6b001-cb80-4549-b31c-29192074e98f"
      },
      "execution_count": null,
      "outputs": [
        {
          "metadata": {
            "tags": null
          },
          "name": "stderr",
          "output_type": "stream",
          "text": [
            "/usr/local/lib/python3.10/dist-packages/PIL/Image.py:996: UserWarning: Palette images with Transparency expressed in bytes should be converted to RGBA images\n",
            "  warnings.warn(\n"
          ]
        },
        {
          "metadata": {
            "tags": null
          },
          "name": "stdout",
          "output_type": "stream",
          "text": [
            "Epoch 1/25, Train Loss: 0.1981, Train Accuracy: 0.9210, Val Loss: 1.2318, Val Accuracy: 0.8100\n",
            "Epoch 2/25, Train Loss: 0.0870, Train Accuracy: 0.9605, Val Loss: 0.0677, Val Accuracy: 0.9767\n",
            "Epoch 3/25, Train Loss: 0.0978, Train Accuracy: 0.9600, Val Loss: 0.0362, Val Accuracy: 0.9900\n",
            "Epoch 4/25, Train Loss: 0.0462, Train Accuracy: 0.9819, Val Loss: 0.2563, Val Accuracy: 0.9133\n",
            "Epoch 5/25, Train Loss: 0.0568, Train Accuracy: 0.9762, Val Loss: 0.1839, Val Accuracy: 0.9600\n",
            "Epoch 6/25, Train Loss: 0.0454, Train Accuracy: 0.9800, Val Loss: 0.0968, Val Accuracy: 0.9667\n",
            "Epoch 7/25, Train Loss: 0.0319, Train Accuracy: 0.9890, Val Loss: 0.0200, Val Accuracy: 0.9933\n",
            "Epoch 8/25, Train Loss: 0.0158, Train Accuracy: 0.9948, Val Loss: 0.0113, Val Accuracy: 0.9933\n",
            "Epoch 9/25, Train Loss: 0.0134, Train Accuracy: 0.9938, Val Loss: 0.0111, Val Accuracy: 0.9967\n",
            "Epoch 10/25, Train Loss: 0.0105, Train Accuracy: 0.9976, Val Loss: 0.0138, Val Accuracy: 0.9967\n",
            "Epoch 11/25, Train Loss: 0.0061, Train Accuracy: 0.9981, Val Loss: 0.0143, Val Accuracy: 0.9967\n",
            "Epoch 12/25, Train Loss: 0.0074, Train Accuracy: 0.9971, Val Loss: 0.0218, Val Accuracy: 0.9900\n",
            "Epoch 13/25, Train Loss: 0.0086, Train Accuracy: 0.9986, Val Loss: 0.0123, Val Accuracy: 0.9967\n",
            "Epoch 14/25, Train Loss: 0.0054, Train Accuracy: 0.9990, Val Loss: 0.0114, Val Accuracy: 0.9967\n",
            "Epoch 15/25, Train Loss: 0.0056, Train Accuracy: 0.9981, Val Loss: 0.0070, Val Accuracy: 0.9967\n",
            "Epoch 16/25, Train Loss: 0.0053, Train Accuracy: 0.9971, Val Loss: 0.0091, Val Accuracy: 0.9967\n",
            "Epoch 17/25, Train Loss: 0.0031, Train Accuracy: 0.9990, Val Loss: 0.0079, Val Accuracy: 0.9967\n",
            "Epoch 18/25, Train Loss: 0.0059, Train Accuracy: 0.9986, Val Loss: 0.0094, Val Accuracy: 0.9967\n",
            "Epoch 19/25, Train Loss: 0.0043, Train Accuracy: 0.9990, Val Loss: 0.0086, Val Accuracy: 0.9967\n",
            "Epoch 20/25, Train Loss: 0.0042, Train Accuracy: 0.9981, Val Loss: 0.0132, Val Accuracy: 0.9933\n",
            "Epoch 21/25, Train Loss: 0.0087, Train Accuracy: 0.9976, Val Loss: 0.0080, Val Accuracy: 0.9967\n",
            "Epoch 22/25, Train Loss: 0.0080, Train Accuracy: 0.9976, Val Loss: 0.0115, Val Accuracy: 0.9967\n",
            "Epoch 23/25, Train Loss: 0.0032, Train Accuracy: 0.9990, Val Loss: 0.0081, Val Accuracy: 0.9967\n",
            "Epoch 24/25, Train Loss: 0.0041, Train Accuracy: 0.9990, Val Loss: 0.0082, Val Accuracy: 0.9967\n",
            "Epoch 25/25, Train Loss: 0.0059, Train Accuracy: 0.9976, Val Loss: 0.0072, Val Accuracy: 0.9967\n"
          ]
        },
        {
          "data": {
            "image/png": "[encoded data removed]",
            "text/plain": [
              "<Figure size 1200x400 with 2 Axes>"
            ]
          },
          "metadata": {},
          "output_type": "display_data"
        }
      ]
    },
    {
      "cell_type": "markdown",
      "source": [
        "### Evaluate the Model on Test Set"
      ],
      "metadata": {
        "id": "dFwHA9U29aZj"
      }
    },
    {
      "cell_type": "code",
      "source": [
        "model.eval()\n",
        "test_loss = 0.0\n",
        "correct = 0\n",
        "total = 0\n",
        "all_labels = []\n",
        "all_predictions = []\n",
        "\n",
        "with torch.no_grad():\n",
        "    for inputs, labels in test_loader:\n",
        "        # Move inputs and labels to the GPU\n",
        "        inputs, labels = inputs.to(device), labels.to(device)\n",
        "\n",
        "        outputs = model(inputs)\n",
        "        loss = criterion(outputs, labels)\n",
        "        test_loss += loss.item() * inputs.size(0)\n",
        "        _, predicted = torch.max(outputs, 1)\n",
        "        total += labels.size(0)\n",
        "        correct += (predicted == labels).sum().item()\n",
        "        all_labels.extend(labels.cpu().numpy())\n",
        "        all_predictions.extend(predicted.cpu().numpy())\n",
        "\n",
        "test_loss /= total\n",
        "test_accuracy = correct / total\n",
        "\n",
        "print(f'Test Loss: {test_loss:.4f}, Test Accuracy: {test_accuracy:.4f}')\n",
        "\n",
        "# Confusion Matrix\n",
        "cm = confusion_matrix(all_labels, all_predictions)\n",
        "print('Confusion Matrix:')\n",
        "print(cm)"
      ],
      "metadata": {
        "colab": {
          "base_uri": "https://localhost:8080/"
        },
        "id": "buW3Ew8iRV4X",
        "outputId": "86bdcb15-acc8-4710-c3be-bcaace7c5217"
      },
      "execution_count": null,
      "outputs": [
        {
          "output_type": "stream",
          "name": "stdout",
          "text": [
            "Test Loss: 0.0237, Test Accuracy: 0.9967\n",
            "Confusion Matrix:\n",
            "[[150   0]\n",
            " [  1 149]]\n"
          ]
        }
      ]
    },
    {
      "cell_type": "code",
      "source": [],
      "metadata": {
        "id": "vr2NrAW2_Ny5"
      },
      "execution_count": null,
      "outputs": []
    },
    {
      "cell_type": "code",
      "source": [],
      "metadata": {
        "id": "-tKQI8Nr_Nwi"
      },
      "execution_count": null,
      "outputs": []
    },
    {
      "cell_type": "code",
      "source": [],
      "metadata": {
        "id": "wRGS4nxq_iuE"
      },
      "execution_count": null,
      "outputs": []
    }
  ]
}